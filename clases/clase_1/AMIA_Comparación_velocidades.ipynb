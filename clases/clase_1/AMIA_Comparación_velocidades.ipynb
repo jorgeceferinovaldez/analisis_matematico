{
  "cells": [
    {
      "cell_type": "code",
      "execution_count": 2,
      "metadata": {
        "id": "64kZ7EiYIO3j"
      },
      "outputs": [],
      "source": [
        "import torch\n",
        "import numpy as np\n",
        "\n",
        "import matplotlib.pyplot as plt"
      ]
    },
    {
      "cell_type": "code",
      "execution_count": 3,
      "metadata": {
        "id": "1ru-amzFKtkp"
      },
      "outputs": [],
      "source": [
        "def matmuls(mat_sz=100, use_gpu=False):\n",
        "  device = \"cuda\" if use_gpu else \"cpu\"\n",
        "  A = torch.randn(mat_sz, mat_sz, device=device)\n",
        "  B = torch.randn(mat_sz, mat_sz, device=device)\n",
        "  C = torch.randn(mat_sz, mat_sz, device=device)\n",
        "\n",
        "  D = torch.matmul(A, B)\n",
        "  E = torch.matmul(C, D)\n",
        "\n",
        "  F = D + 3*E\n",
        "  return F"
      ]
    },
    {
      "cell_type": "code",
      "execution_count": 4,
      "metadata": {
        "colab": {
          "base_uri": "https://localhost:8080/"
        },
        "id": "eZSKz9q6MYx_",
        "outputId": "6c2de4ec-0c92-4086-a53e-86112b03598e"
      },
      "outputs": [
        {
          "name": "stdout",
          "output_type": "stream",
          "text": [
            "314 µs ± 5.38 µs per loop (mean ± std. dev. of 7 runs, 1,000 loops each)\n"
          ]
        }
      ],
      "source": [
        "%%timeit\n",
        "matmuls(mat_sz=100, use_gpu=False)"
      ]
    },
    {
      "cell_type": "code",
      "execution_count": 5,
      "metadata": {
        "colab": {
          "base_uri": "https://localhost:8080/"
        },
        "id": "wCIqLRJlMfFT",
        "outputId": "32342beb-7d44-488d-c8ff-1f2f0da24e6b"
      },
      "outputs": [
        {
          "name": "stdout",
          "output_type": "stream",
          "text": [
            "133 µs ± 32.4 µs per loop (mean ± std. dev. of 7 runs, 1 loop each)\n"
          ]
        }
      ],
      "source": [
        "%%timeit\n",
        "matmuls(mat_sz=100, use_gpu=True)"
      ]
    },
    {
      "cell_type": "code",
      "execution_count": 6,
      "metadata": {
        "colab": {
          "base_uri": "https://localhost:8080/"
        },
        "id": "Kv6o58QTYJG2",
        "outputId": "be1ef9a2-ea9e-4e08-a290-9357b4107f13"
      },
      "outputs": [
        {
          "data": {
            "text/plain": [
              "3.6432432432432433"
            ]
          },
          "execution_count": 6,
          "metadata": {},
          "output_type": "execute_result"
        }
      ],
      "source": [
        "337/92.5"
      ]
    },
    {
      "cell_type": "code",
      "execution_count": 7,
      "metadata": {
        "colab": {
          "base_uri": "https://localhost:8080/"
        },
        "id": "taRj8UbfMItW",
        "outputId": "d398ef6a-8fc7-4e3c-8b4f-61e1f02e408c"
      },
      "outputs": [
        {
          "name": "stdout",
          "output_type": "stream",
          "text": [
            "34.5 ms ± 1.17 ms per loop (mean ± std. dev. of 7 runs, 10 loops each)\n"
          ]
        }
      ],
      "source": [
        "%%timeit\n",
        "matmuls(mat_sz=1000, use_gpu=False)"
      ]
    },
    {
      "cell_type": "code",
      "execution_count": 8,
      "metadata": {
        "colab": {
          "base_uri": "https://localhost:8080/"
        },
        "id": "Rb7VHkU6MQ4V",
        "outputId": "dc8858ce-f90e-4922-eefd-31792249ca59"
      },
      "outputs": [
        {
          "name": "stdout",
          "output_type": "stream",
          "text": [
            "310 µs ± 4.15 µs per loop (mean ± std. dev. of 7 runs, 1,000 loops each)\n"
          ]
        }
      ],
      "source": [
        "%%timeit\n",
        "matmuls(mat_sz=1000, use_gpu=True)"
      ]
    },
    {
      "cell_type": "code",
      "execution_count": 9,
      "metadata": {
        "colab": {
          "base_uri": "https://localhost:8080/"
        },
        "id": "FTAXiqPeMgjJ",
        "outputId": "6826d3b3-79df-490f-9601-de1edba5c459"
      },
      "outputs": [
        {
          "data": {
            "text/plain": [
              "53.21678321678321"
            ]
          },
          "execution_count": 9,
          "metadata": {},
          "output_type": "execute_result"
        }
      ],
      "source": [
        "76.1/1.43"
      ]
    },
    {
      "cell_type": "code",
      "execution_count": 10,
      "metadata": {
        "colab": {
          "base_uri": "https://localhost:8080/"
        },
        "id": "DkWi-HERYtTu",
        "outputId": "976706c0-9712-48f4-ad6b-60a2e3d93f89"
      },
      "outputs": [
        {
          "name": "stdout",
          "output_type": "stream",
          "text": [
            "1.73 s ± 30.9 ms per loop (mean ± std. dev. of 7 runs, 1 loop each)\n"
          ]
        }
      ],
      "source": [
        "%%timeit\n",
        "matmuls(mat_sz=5000, use_gpu=False)"
      ]
    },
    {
      "cell_type": "code",
      "execution_count": 11,
      "metadata": {
        "colab": {
          "base_uri": "https://localhost:8080/"
        },
        "id": "nPodoj7hYxSu",
        "outputId": "15310f94-29a5-4bc5-8d60-4d0ace435c2d"
      },
      "outputs": [
        {
          "name": "stdout",
          "output_type": "stream",
          "text": [
            "22.9 ms ± 1.74 ms per loop (mean ± std. dev. of 3 runs, 1,000 loops each)\n"
          ]
        }
      ],
      "source": [
        "%%timeit -n 1000 -r 3\n",
        "matmuls(mat_sz=5000, use_gpu=True)"
      ]
    },
    {
      "cell_type": "code",
      "execution_count": 12,
      "metadata": {
        "colab": {
          "base_uri": "https://localhost:8080/"
        },
        "id": "xzbC1NjBc4NE",
        "outputId": "9389320d-b006-428c-f2b8-2eb6534043f5"
      },
      "outputs": [
        {
          "data": {
            "text/plain": [
              "33.9041095890411"
            ]
          },
          "execution_count": 12,
          "metadata": {},
          "output_type": "execute_result"
        }
      ],
      "source": [
        "4.95/0.146"
      ]
    },
    {
      "cell_type": "code",
      "execution_count": null,
      "metadata": {
        "id": "HAI7cMagfDY2"
      },
      "outputs": [],
      "source": []
    }
  ],
  "metadata": {
    "accelerator": "GPU",
    "colab": {
      "provenance": []
    },
    "gpuClass": "standard",
    "kernelspec": {
      "display_name": "Python 3",
      "name": "python3"
    },
    "language_info": {
      "codemirror_mode": {
        "name": "ipython",
        "version": 3
      },
      "file_extension": ".py",
      "mimetype": "text/x-python",
      "name": "python",
      "nbconvert_exporter": "python",
      "pygments_lexer": "ipython3",
      "version": "3.10.12"
    }
  },
  "nbformat": 4,
  "nbformat_minor": 0
}
